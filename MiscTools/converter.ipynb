{
 "cells": [
  {
   "cell_type": "code",
   "execution_count": 23,
   "metadata": {},
   "outputs": [],
   "source": [
    "from bs4 import BeautifulSoup\n",
    "import os"
   ]
  },
  {
   "cell_type": "code",
   "execution_count": 24,
   "metadata": {},
   "outputs": [],
   "source": [
    "filepath1 = \"C:/Users/rschl/Desktop/Image Labeling/annotated data/AmanitaPhalloides/AmanitaPhalloides_1.xml\"\n",
    "filepath2 = \"C:/Users/rschl/Desktop/Image Labeling/annotated data/AmanitaPhalloides/AmanitaPhalloides_0.xml\""
   ]
  },
  {
   "cell_type": "code",
   "execution_count": 25,
   "metadata": {},
   "outputs": [],
   "source": [
    "def parseXML(filepath):\n",
    "    infile = open(filepath,'r')\n",
    "    content = infile.read()\n",
    "    soup = BeautifulSoup(content,'xml')\n",
    "    width = int(soup.find('width').text)\n",
    "    height = int(soup.find('height').text)\n",
    "    xmins = soup.findAll('xmin')\n",
    "    ymins = soup.findAll('ymin')\n",
    "    xmax = soup.findAll('xmax')\n",
    "    ymax = soup.findAll('ymax')\n",
    "    boxes = []\n",
    "    for i in range(len(xmins)):\n",
    "        box = []\n",
    "        box.append(int(xmins[i].contents[0]))\n",
    "        box.append(int(ymins[i].contents[0]))\n",
    "        box.append(int(xmax[i].contents[0]))\n",
    "        box.append(int(ymax[i].contents[0]))\n",
    "        boxes.append(box)\n",
    "\n",
    "    return width, height, boxes\n"
   ]
  },
  {
   "cell_type": "code",
   "execution_count": 26,
   "metadata": {},
   "outputs": [],
   "source": [
    "def convert_coord(pascal):\n",
    "    width = pascal[0]\n",
    "    height = pascal[1]\n",
    "    \n",
    "    list_boxes = pascal[2]\n",
    "\n",
    "    yolo = []\n",
    "\n",
    "    for i in range(len(list_boxes)):\n",
    "        yolo_box = []\n",
    "        \n",
    "        xmin = list_boxes[i][0]\n",
    "        ymin = list_boxes[i][1]\n",
    "        xmax = list_boxes[i][2]\n",
    "        ymax = list_boxes[i][3]\n",
    "\n",
    "        yolo_x = ((xmax-xmin)/2 + xmin)/width\n",
    "        yolo_y = ((ymax-ymin)/2 + ymin)/height\n",
    "\n",
    "        yolo_width = round((xmax-xmin)/width,6)\n",
    "        yolo_height = round((ymax-ymin)/height,6)\n",
    "\n",
    "        yolo_box.append(format(yolo_x,'.6f'))\n",
    "        yolo_box.append(format(yolo_y,'.6f'))\n",
    "        yolo_box.append(format(yolo_width,'.6f'))\n",
    "        yolo_box.append(format(yolo_height,'.6f'))\n",
    "\n",
    "        yolo.append(yolo_box)\n",
    "\n",
    "    return yolo\n"
   ]
  },
  {
   "cell_type": "code",
   "execution_count": 27,
   "metadata": {},
   "outputs": [],
   "source": [
    "def convert_yolo_list(yolo_box):\n",
    "    yolo_complete = \"\"\n",
    "    for i in range(len(yolo_box)):    \n",
    "        curr_box = yolo_box[i]\n",
    "        yolo_str = \"0 \"\n",
    "        for i in range(len(curr_box)):\n",
    "            yolo_str += curr_box[i]\n",
    "            yolo_str += \" \"\n",
    "        \n",
    "        yolo_str = yolo_str[:-1]\n",
    "        yolo_str += \"\\n\"\n",
    "        yolo_complete += yolo_str\n",
    "\n",
    "\n",
    "    return yolo_complete"
   ]
  },
  {
   "cell_type": "code",
   "execution_count": 28,
   "metadata": {},
   "outputs": [],
   "source": [
    "data = [\n",
    "    'annotated_data\\Amanita Pantherina',\n",
    "    'annotated_data\\AmanitaPantherina',\n",
    "    'annotated_data\\AmanitaPhalloides'\n",
    "    'annotated_data\\Conocybe'\n",
    "    'annotated_data\\CoprinopsisAtramentaria'\n",
    "]"
   ]
  },
  {
   "cell_type": "code",
   "execution_count": 29,
   "metadata": {},
   "outputs": [],
   "source": [
    "def combined_conversion(file, destination):\n",
    "    try:\n",
    "        f = open(destination,'w')\n",
    "    except:\n",
    "        print(\"Something went wrong opening the destination folder\")\n",
    "    try:\n",
    "        f.write(convert_yolo_list(convert_coord(parseXML(file))))\n",
    "    except:\n",
    "        print(\"Something went wrong writing the text file\")"
   ]
  },
  {
   "cell_type": "code",
   "execution_count": 30,
   "metadata": {},
   "outputs": [],
   "source": [
    "'''\n",
    "Pass in the folder path of the xml files to be converted\n",
    "'''\n",
    "\n",
    "def convert_directory(dir):\n",
    "    file_list = os.listdir(dir)\n",
    "\n",
    "    if not os.path.exists(dir + '\\yolo'):\n",
    "        os.makedirs(dir + '\\yolo')\n",
    "\n",
    "    for i in range(len(file_list)-1):\n",
    "        xml_path = dir + '\\\\' + file_list[i]\n",
    "        if '.xml' in xml_path:\n",
    "            destination = dir + '\\yolo' + '\\\\' + file_list[i][:-3] + \"txt\"\n",
    "            combined_conversion(xml_path,destination)\n",
    "\n",
    "\n",
    "        "
   ]
  },
  {
   "cell_type": "code",
   "execution_count": 32,
   "metadata": {},
   "outputs": [],
   "source": [
    "convert_directory()"
   ]
  }
 ],
 "metadata": {
  "interpreter": {
   "hash": "98808177eff5c3d00cd3f8ba078e7de363e144613083868b262a65269a3681a0"
  },
  "kernelspec": {
   "display_name": "Python 3.9.7 64-bit",
   "language": "python",
   "name": "python3"
  },
  "language_info": {
   "codemirror_mode": {
    "name": "ipython",
    "version": 3
   },
   "file_extension": ".py",
   "mimetype": "text/x-python",
   "name": "python",
   "nbconvert_exporter": "python",
   "pygments_lexer": "ipython3",
   "version": "3.9.7"
  },
  "orig_nbformat": 4
 },
 "nbformat": 4,
 "nbformat_minor": 2
}
